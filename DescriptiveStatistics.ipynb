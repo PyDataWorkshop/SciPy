{
 "cells": [
  {
   "cell_type": "code",
   "execution_count": 1,
   "metadata": {
    "collapsed": true
   },
   "outputs": [],
   "source": [
    "import scipy as sp"
   ]
  },
  {
   "cell_type": "markdown",
   "metadata": {},
   "source": [
    "### Descriptive statistics###\n",
    "\n",
    "To illustrate basic functions we will use some pseudo-random numbers from a Gaussian or Normal distribution. \n",
    "\n",
    "The function scipy.randn can be used to generate random numbers from a standard Gaussian. This function is the same as the numpy.random.randn function.\n",
    "\n"
   ]
  },
  {
   "cell_type": "code",
   "execution_count": 2,
   "metadata": {
    "collapsed": false
   },
   "outputs": [
    {
     "name": "stdout",
     "output_type": "stream",
     "text": [
      "100\n"
     ]
    }
   ],
   "source": [
    "s = sp.randn(100) # Hundred random numbers from a standard Gaussian\n",
    "print( len(s) ) \n"
   ]
  },
  {
   "cell_type": "markdown",
   "metadata": {},
   "source": [
    "Since the value returned is a Numpy array we can use its methods to find descriptive statistics for the data.\n"
   ]
  },
  {
   "cell_type": "code",
   "execution_count": 3,
   "metadata": {
    "collapsed": false
   },
   "outputs": [
    {
     "name": "stdout",
     "output_type": "stream",
     "text": [
      "Mean : 0.090271\n",
      "Minimum : -2.393870\n",
      "Maximum : 2.252461\n",
      "Variance : 0.883410\n",
      "Std. deviation : 0.939899\n"
     ]
    }
   ],
   "source": [
    "print(\"Mean : {0:8.6f}\".format(s.mean()))\n",
    "print(\"Minimum : {0:8.6f}\".format(s.min()))\n",
    "print(\"Maximum : {0:8.6f}\".format(s.max()))\n",
    "print(\"Variance : {0:8.6f}\".format(s.var()))\n",
    "print(\"Std. deviation : {0:8.6f}\".format(s.std()))\n",
    "\n",
    "\n"
   ]
  },
  {
   "cell_type": "code",
   "execution_count": null,
   "metadata": {
    "collapsed": true
   },
   "outputs": [],
   "source": [
    "%--------------------------------------------%\n",
    "We can also use Numpy functions for performing the same calculations.\n",
    "\n",
    "\\begin{framed}\n",
    "\\begin{verbatim}\n",
    ">>> print(\"Mean : {0:8.6f}\".format(sp.mean(s)))\n",
    "Mean           : -0.105170\n",
    ">>> print(\"Variance : {0:8.6f}\".format(sp.var(s)))\n",
    "Variance       : 0.863475\n",
    ">>> print(\"Std. deviation : {0:8.6f}\".format(sp.std(s)))\n",
    "Std. deviation : 0.929233\n"
   ]
  },
  {
   "cell_type": "code",
   "execution_count": null,
   "metadata": {
    "collapsed": true
   },
   "outputs": [],
   "source": [
    "\n",
    "\n",
    "The median can be calculated using:\n",
    "\n",
    ">>> print(\"Median : {0:8.6f}\".format(sp.median(s)))\n",
    "Median          : 0.001611\n"
   ]
  },
  {
   "cell_type": "code",
   "execution_count": null,
   "metadata": {
    "collapsed": true
   },
   "outputs": [],
   "source": [
    "Note that both variance calculations above use N in the denominator i.e., they are biased estimators of the variance of the parent distribution. But when we are merely trying to describe the data, these are the appropriate equations to use.\n",
    "\n",
    "The scipy.var function takes a keyword parameter ddof that can be used to change the denominator. The denominator is set as N - ddof and by default ddof = 0; set ddof = 1.0 to find the unbiased estimator of the variance of the parent distribution.\n",
    "\n",
    ">>> print(\"Variance with N in denominator = {0:8.6f}\".format(sp.var(s)))\n",
    "Variance (N in denominator)      =  0.863475\n",
    ">>> print(\"Variance with N - 1 in denominator = {0:8.6f}\".format(sp.var(s,ddof=1)))\n",
    "Variance (N - 1 in denominator)  =  0.872197\n"
   ]
  },
  {
   "cell_type": "code",
   "execution_count": null,
   "metadata": {
    "collapsed": true
   },
   "outputs": [],
   "source": [
    "The scipy.stats sub-package has a function describe that will provide most of the above numbers. In this case, the variance has N - 1 in the denominator.\n",
    "\n",
    "\n",
    ">>> from scipy import stats\n",
    ">>> n, min_max, mean, var, skew, kurt = stats.describe(s)\n",
    ">>> print(\"Number of elements: {0:d}\".format(n))\n",
    "Number of elements: 100\n",
    ">>> print(\"Minimum: {0:8.6f} Maximum: {1:8.6f}\".format(min_max[0], min_max[1]))\n",
    "Minimum: -3.091940 Maximum: 2.193828\n",
    ">>> print(\"Mean: {0:8.6f}\".format(mean))\n",
    "Mean: -0.105170\n",
    ">>> print(\"Variance: {0:8.6f}\".format(var))\n",
    "Variance: 0.872197\n",
    ">>> print(\"Skew : {0:8.6f}\".format(skew))\n",
    "Skew : -0.146500\n",
    ">>> print(\"Kurtosis: {0:8.6f}\".format(kurt))\n",
    "Kurtosis: 0.117884\n",
    "\n"
   ]
  },
  {
   "cell_type": "code",
   "execution_count": null,
   "metadata": {
    "collapsed": true
   },
   "outputs": [],
   "source": [
    "\\section{Descriptive statistics}\n",
    "\n",
    "To illustrate basic functions we will use some pseudo-random numbers from a Gaussian or Normal distribution. \n",
    "\n",
    "The function scipy.randn can be used to generate random numbers from a standard Gaussian. This function is the same as the numpy.random.randn function.\n",
    "\n",
    "\\begin{framed}\n",
    "\\begin{verbatim}\n",
    ">>> s = sp.randn(100) # Hundred random numbers from a standard Gaussian\n",
    ">>> print len(s)\n",
    "100\n",
    "\\end{verbatim}\n",
    "\\end{framed}\n",
    "%--------------------------------------------%\n",
    "Since the value returned is a Numpy array we can use its methods to find descriptive statistics for the data.\n",
    "\n",
    "\\begin{framed}\n",
    "\\begin{verbatim}\n",
    ">>> print(\"Mean : {0:8.6f}\".format(s.mean()))\n",
    "Mean           : -0.105170\n",
    ">>> print(\"Minimum : {0:8.6f}\".format(s.min()))\n",
    "Minimum        : -3.091940\n",
    ">>> print(\"Maximum : {0:8.6f}\".format(s.max()))\n",
    "Maximum        : 2.193828\n",
    ">>> print(\"Variance : {0:8.6f}\".format(s.var()))\n",
    "Variance       : 0.863475\n",
    ">>> print(\"Std. deviation : {0:8.6f}\".format(s.std()))\n",
    "Std. deviation : 0.929233\n",
    "\\end{verbatim}\n",
    "\\end{framed}\n",
    "%--------------------------------------------%\n",
    "We can also use Numpy functions for performing the same calculations.\n",
    "\n",
    "\\begin{framed}\n",
    "\\begin{verbatim}\n",
    ">>> print(\"Mean : {0:8.6f}\".format(sp.mean(s)))\n",
    "Mean           : -0.105170\n",
    ">>> print(\"Variance : {0:8.6f}\".format(sp.var(s)))\n",
    "Variance       : 0.863475\n",
    ">>> print(\"Std. deviation : {0:8.6f}\".format(sp.std(s)))\n",
    "Std. deviation : 0.929233\n",
    "\\end{verbatim}\n",
    "\\end{framed}\n",
    "\n",
    "The median can be calculated using:\n",
    "\\begin{framed}\n",
    "\\begin{verbatim}\n",
    ">>> print(\"Median : {0:8.6f}\".format(sp.median(s)))\n",
    "Median          : 0.001611\n",
    "\\end{verbatim}\n",
    "\\end{framed}\n",
    "Note that both variance calculations above use N in the denominator i.e., they are biased estimators of the variance of the parent distribution. But when we are merely trying to describe the data, these are the appropriate equations to use.\n",
    "\n",
    "The scipy.var function takes a keyword parameter ddof that can be used to change the denominator. The denominator is set as N - ddof and by default ddof = 0; set ddof = 1.0 to find the unbiased estimator of the variance of the parent distribution.\n",
    "\\begin{framed}\n",
    "\\begin{verbatim}\n",
    ">>> print(\"Variance with N in denominator = {0:8.6f}\".format(sp.var(s)))\n",
    "Variance (N in denominator)      =  0.863475\n",
    ">>> print(\"Variance with N - 1 in denominator = {0:8.6f}\".format(sp.var(s,ddof=1)))\n",
    "Variance (N - 1 in denominator)  =  0.872197\n",
    "\\end{verbatim}\n",
    "\\end{framed}\n",
    "The scipy.stats sub-package has a function describe that will provide most of the above numbers. In this case, the variance has N - 1 in the denominator.\n",
    "\n",
    "\\begin{framed}\n",
    "\\begin{verbatim}\n",
    ">>> from scipy import stats\n",
    ">>> n, min_max, mean, var, skew, kurt = stats.describe(s)\n",
    ">>> print(\"Number of elements: {0:d}\".format(n))\n",
    "Number of elements: 100\n",
    ">>> print(\"Minimum: {0:8.6f} Maximum: {1:8.6f}\".format(min_max[0], min_max[1]))\n",
    "Minimum: -3.091940 Maximum: 2.193828\n",
    ">>> print(\"Mean: {0:8.6f}\".format(mean))\n",
    "Mean: -0.105170\n",
    ">>> print(\"Variance: {0:8.6f}\".format(var))\n",
    "Variance: 0.872197\n",
    ">>> print(\"Skew : {0:8.6f}\".format(skew))\n",
    "Skew : -0.146500\n",
    ">>> print(\"Kurtosis: {0:8.6f}\".format(kurt))\n",
    "Kurtosis: 0.117884\n",
    "\\end{verbatim}\n",
    "\\end{framed}\n",
    "%==========================================================================%\n",
    "\\end{document}\n"
   ]
  }
 ],
 "metadata": {
  "kernelspec": {
   "display_name": "Python 3.6",
   "language": "python",
   "name": "python36"
  },
  "language_info": {
   "codemirror_mode": {
    "name": "ipython",
    "version": 3
   },
   "file_extension": ".py",
   "mimetype": "text/x-python",
   "name": "python",
   "nbconvert_exporter": "python",
   "pygments_lexer": "ipython3",
   "version": "3.6.0"
  }
 },
 "nbformat": 4,
 "nbformat_minor": 2
}
