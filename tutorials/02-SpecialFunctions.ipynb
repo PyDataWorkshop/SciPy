{
 "cells": [
  {
   "cell_type": "markdown",
   "metadata": {},
   "source": [
    "Special functions: scipy.special\n",
    "==============================================\n",
    "Special functions are transcendental functions. The docstring of the scipy.special module is well-written, so we won’t list all functions here.\n",
    "\n",
    "Frequently used ones are:\n",
    "1. Bessel function, such as ``scipy.special.jn()`` (nth integer order Bessel function)\n",
    "2. Elliptic function (``scipy.special.ellipj()`` for the Jacobian elliptic function, ...)\n",
    "3. Gamma function: ``scipy.special.gamma()``, also note ``scipy.special.gammaln()`` which will give the log of Gamma to a higher numerical precision.\n",
    "\n",
    "4. Erf: the area under a Gaussian curve: ``scipy.special.erf()``"
   ]
  },
  {
   "cell_type": "code",
   "execution_count": null,
   "metadata": {
    "collapsed": true
   },
   "outputs": [],
   "source": []
  }
 ],
 "metadata": {
  "kernelspec": {
   "display_name": "Python 3.6",
   "language": "python",
   "name": "python36"
  },
  "language_info": {
   "codemirror_mode": {
    "name": "ipython",
    "version": 3
   },
   "file_extension": ".py",
   "mimetype": "text/x-python",
   "name": "python",
   "nbconvert_exporter": "python",
   "pygments_lexer": "ipython3",
   "version": "3.6.0"
  }
 },
 "nbformat": 4,
 "nbformat_minor": 2
}
