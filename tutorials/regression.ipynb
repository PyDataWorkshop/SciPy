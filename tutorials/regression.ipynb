{
 "cells": [
  {
   "cell_type": "markdown",
   "metadata": {
    "collapsed": true
   },
   "source": [
    "``scipy.stats.linregress(x, y=None)``\n",
    "===========================================\n",
    "***Calculate a regression line***\n",
    "\n",
    "This computes a least-squares regression for two sets of measurements.\n",
    "\n",
    "Parameters:\n",
    "x, y : array_like\n",
    "two sets of measurements. Both arrays should have the same length. If only x is given (and y=None), then it must be a two-dimensional array where one dimension has length 2. The two sets of measurements are then found by splitting the array along the length-2 dimension.\n",
    "\n",
    "Returns:\n",
    "\n",
    "*  slope : float\n",
    "slope of the regression line\n",
    "*  intercept : float\n",
    "intercept of the regression line\n",
    "*  r-value : float\n",
    "correlation coefficient\n",
    "*  \\texttt{p-value} : float\n",
    "two-sided p-value for a hypothesis test whose null hypothesis is that the slope is zero.\n",
    "*  \\texttt{stderr} : float\n",
    "Standard error of the estimate\n",
    "\n"
   ]
  },
  {
   "cell_type": "code",
   "execution_count": 1,
   "metadata": {
    "collapsed": false
   },
   "outputs": [
    {
     "name": "stdout",
     "output_type": "stream",
     "text": [
      "r-squared: 0.0163860705152\n"
     ]
    }
   ],
   "source": [
    "from scipy import stats\n",
    "import numpy as np\n",
    "x = np.random.random(10)\n",
    "y = np.random.random(10)\n",
    "slope, intercept, r_value, p_value, std_err = stats.linregress(x,y)\n",
    "\n",
    "# To get coefficient of determination (r_squared)\n",
    "\n",
    "print( \"r-squared:\", r_value**2 ) "
   ]
  },
  {
   "cell_type": "code",
   "execution_count": null,
   "metadata": {
    "collapsed": true
   },
   "outputs": [],
   "source": [
    "\\documentclass[Pydata.tex]{subfiles} \n",
    "% More Work Needed\n",
    "\n",
    "%17.2 Statistical Functions - Short Section - Good\n",
    "%17.3 Now in 17a\n",
    "%17.4 Now in 17a\n",
    "%17.5 Graphics - Completed - Now in 17a\n",
    "%17.6 FRED Example - make as new section (17b)\n",
    "\\begin{document} \n",
    "\n",
    "\\texttt{scipy.stats.linregress(x, y=None)}\n",
    "\n",
    "\\textbf{\\textit{Calculate a regression line}}\n",
    "\n",
    "This computes a least-squares regression for two sets of measurements.\n",
    "\n",
    "Parameters:\t\n",
    "x, y : array\\_like\n",
    "two sets of measurements. Both arrays should have the same length. If only x is given (and y=None), then it must be a two-dimensional array where one dimension has length 2. The two sets of measurements are then found by splitting the array along the length-2 dimension.\n",
    "\n",
    "Returns:\n",
    "\\begin{itemize}\t\n",
    "\\item slope : float\n",
    "slope of the regression line\n",
    "\\item intercept : float\n",
    "intercept of the regression line\n",
    "\\item r-value : float\n",
    "correlation coefficient\n",
    "\\item \\texttt{p-value} : float\n",
    "two-sided p-value for a hypothesis test whose null hypothesis is that the slope is zero.\n",
    "\\item \\texttt{stderr} : float\n",
    "Standard error of the estimate\n",
    "\\end{itemize}\n",
    "%----------------------------------------------------------------------------------------- %\n",
    "\\subsubsection*{Examples}\n",
    "\n",
    "\\begin{framed}\n",
    "\\begin{verbatim}\n",
    ">>> from scipy import stats\n",
    ">>> import numpy as np\n",
    ">>> x = np.random.random(10)\n",
    ">>> y = np.random.random(10)\n",
    ">>> slope, intercept, r_value, p_value, std_err = stats.linregress(x,y)\n",
    "\\end{verbatim}\n",
    "\\end{framed}\n",
    "To get coefficient of determination (\\texttt{r\\_squared})\n",
    "\n",
    "\\begin{framed}\n",
    "\\begin{verbatim}\n",
    ">>>\n",
    ">>> print \"r-squared:\", r_value**2\n",
    "$ r-squared: 0.15286643777 sis test whose null hypothesis is that the slope is zero.\n",
    "\\item stderr : float\n",
    "Standard error of the estimate\n",
    "\n",
    "\\subsubsection*{Examples}\n",
    "\n",
    "\\begin{framed}\n",
    "\\begin{verbatim}\n",
    ">>>\n",
    ">>> from scipy import stats\n",
    ">>> import numpy as np\n",
    ">>> x = np.random.random(10)\n",
    ">>> y = np.random.random(10)\n",
    ">>> slope, intercept, r_value, p_value, std_err = stats.linregress(x,y)\n",
    "# To get coefficient of determination (r_squared)\n",
    "\n",
    ">>> $\n",
    ">>> print \"r-squared:\", r_value**2\n",
    "r-squared: 0.15286643777\n",
    "\n",
    "\\end{verbatim}\n",
    "\\end{framed}\n",
    "\n",
    "\\end{document}"
   ]
  }
 ],
 "metadata": {
  "kernelspec": {
   "display_name": "Python 3",
   "language": "python",
   "name": "python3"
  },
  "language_info": {
   "codemirror_mode": {
    "name": "ipython",
    "version": 3
   },
   "file_extension": ".py",
   "mimetype": "text/x-python",
   "name": "python",
   "nbconvert_exporter": "python",
   "pygments_lexer": "ipython3",
   "version": "3.5.1"
  }
 },
 "nbformat": 4,
 "nbformat_minor": 2
}
